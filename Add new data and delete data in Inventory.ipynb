{
 "cells": [
  {
   "cell_type": "markdown",
   "id": "c10555b3",
   "metadata": {},
   "source": [
    "# Add new data to inventory json file"
   ]
  },
  {
   "cell_type": "code",
   "execution_count": 10,
   "id": "aa69891a",
   "metadata": {},
   "outputs": [
    {
     "name": "stdout",
     "output_type": "stream",
     "text": [
      "Enter product id : 1032\n",
      "Enter item name : Colgate\n",
      "Enter price/item : 45\n",
      "Enter company name : Colgate\n",
      "Enter total stock : 200\n",
      "Enter expiory date : 31/12/2021\n",
      "Enter discount : 5\n"
     ]
    }
   ],
   "source": [
    "import json\n",
    "\n",
    "#This executes when there is already at least one dictionary element in the .json file\n",
    "fd = open(\"store_record.json\",'r')\n",
    "sl = fd.read()\n",
    "fd.close()\n",
    "store = json.loads(sl)\n",
    "\n",
    "\n",
    "p_id = int(input(\"Enter product id : \"))\n",
    "it = str(input(\"Enter item name : \"))\n",
    "pr = int(input(\"Enter price/item : \"))\n",
    "cm = str(input(\"Enter company name : \"))\n",
    "st = int(input(\"Enter total stock : \"))\n",
    "ex = str(input(\"Enter expiory date : \"))\n",
    "dis = int(input(\"Enter discount : \"))\n",
    "\n",
    "store[p_id] = {'item' : it, 'price': pr , cm : 'Lifebuoy', 'stock' : st, 'exp_date' : ex, 'discount' : dis}\n",
    "\n",
    "\n",
    "js = json.dumps(store)\n",
    "\n",
    "fd = open(\"store_record.json\",'w')\n",
    "fd.write(js)\n",
    "fd.close()\n"
   ]
  },
  {
   "cell_type": "markdown",
   "id": "15d5a683",
   "metadata": {},
   "source": [
    "# Delete data from Store inventory json file"
   ]
  },
  {
   "cell_type": "code",
   "execution_count": 15,
   "id": "4f8a6820",
   "metadata": {},
   "outputs": [
    {
     "name": "stdout",
     "output_type": "stream",
     "text": [
      "Enter the product id of the item that you want to delete :1032\n"
     ]
    }
   ],
   "source": [
    "fd = open(\"store_record.json\",'r')\n",
    "sl = fd.read()\n",
    "fd.close()\n",
    "store = json.loads(sl)\n",
    "\n",
    "del_record = str(input(\"Enter the product id of the item that you want to delete :\"))\n",
    "\n",
    "del store[del_record]\n",
    "\n",
    "js = json.dumps(store)\n",
    "\n",
    "fd = open(\"store_record.json\",'w')\n",
    "fd.write(js)\n",
    "fd.close()\n"
   ]
  },
  {
   "cell_type": "code",
   "execution_count": null,
   "id": "86a08a28",
   "metadata": {},
   "outputs": [],
   "source": []
  }
 ],
 "metadata": {
  "kernelspec": {
   "display_name": "Python 3 (ipykernel)",
   "language": "python",
   "name": "python3"
  },
  "language_info": {
   "codemirror_mode": {
    "name": "ipython",
    "version": 3
   },
   "file_extension": ".py",
   "mimetype": "text/x-python",
   "name": "python",
   "nbconvert_exporter": "python",
   "pygments_lexer": "ipython3",
   "version": "3.9.5"
  }
 },
 "nbformat": 4,
 "nbformat_minor": 5
}
